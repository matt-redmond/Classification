{
 "cells": [
  {
   "cell_type": "code",
   "execution_count": 16,
   "id": "d9e0f542",
   "metadata": {},
   "outputs": [],
   "source": [
    "import pandas as pd\n",
    "from sklearn.neighbors import KNeighborsClassifier\n",
    "from sklearn.metrics import accuracy_score"
   ]
  },
  {
   "cell_type": "code",
   "execution_count": 2,
   "id": "8c9fd35a",
   "metadata": {},
   "outputs": [],
   "source": [
    "dftrain = pd.read_csv(\"wookiee-train.csv\")\n",
    "dftest = pd.read_csv(\"wookiee-test.csv\")\n",
    "dthold = pd.read_csv(\"wookiee-ho.csv\")"
   ]
  },
  {
   "cell_type": "code",
   "execution_count": 21,
   "id": "85fc4850",
   "metadata": {},
   "outputs": [
    {
     "data": {
      "text/html": [
       "<div>\n",
       "<style scoped>\n",
       "    .dataframe tbody tr th:only-of-type {\n",
       "        vertical-align: middle;\n",
       "    }\n",
       "\n",
       "    .dataframe tbody tr th {\n",
       "        vertical-align: top;\n",
       "    }\n",
       "\n",
       "    .dataframe thead th {\n",
       "        text-align: right;\n",
       "    }\n",
       "</style>\n",
       "<table border=\"1\" class=\"dataframe\">\n",
       "  <thead>\n",
       "    <tr style=\"text-align: right;\">\n",
       "      <th></th>\n",
       "      <th>Unnamed: 0</th>\n",
       "      <th>xcoord</th>\n",
       "      <th>ycoord</th>\n",
       "      <th>zcoord</th>\n",
       "    </tr>\n",
       "  </thead>\n",
       "  <tbody>\n",
       "    <tr>\n",
       "      <th>0</th>\n",
       "      <td>0</td>\n",
       "      <td>-0.420177</td>\n",
       "      <td>-0.403701</td>\n",
       "      <td>-1.367733</td>\n",
       "    </tr>\n",
       "    <tr>\n",
       "      <th>1</th>\n",
       "      <td>1</td>\n",
       "      <td>-1.552317</td>\n",
       "      <td>1.851824</td>\n",
       "      <td>-0.430991</td>\n",
       "    </tr>\n",
       "    <tr>\n",
       "      <th>2</th>\n",
       "      <td>2</td>\n",
       "      <td>-0.554652</td>\n",
       "      <td>0.138217</td>\n",
       "      <td>-0.185971</td>\n",
       "    </tr>\n",
       "    <tr>\n",
       "      <th>3</th>\n",
       "      <td>3</td>\n",
       "      <td>-0.431224</td>\n",
       "      <td>0.007767</td>\n",
       "      <td>0.899117</td>\n",
       "    </tr>\n",
       "    <tr>\n",
       "      <th>4</th>\n",
       "      <td>4</td>\n",
       "      <td>0.549926</td>\n",
       "      <td>-1.030384</td>\n",
       "      <td>0.799581</td>\n",
       "    </tr>\n",
       "  </tbody>\n",
       "</table>\n",
       "</div>"
      ],
      "text/plain": [
       "   Unnamed: 0    xcoord    ycoord    zcoord\n",
       "0           0 -0.420177 -0.403701 -1.367733\n",
       "1           1 -1.552317  1.851824 -0.430991\n",
       "2           2 -0.554652  0.138217 -0.185971\n",
       "3           3 -0.431224  0.007767  0.899117\n",
       "4           4  0.549926 -1.030384  0.799581"
      ]
     },
     "execution_count": 21,
     "metadata": {},
     "output_type": "execute_result"
    }
   ],
   "source": [
    "dthold.head()"
   ]
  },
  {
   "cell_type": "code",
   "execution_count": 5,
   "id": "79aee191",
   "metadata": {},
   "outputs": [],
   "source": [
    "x = dftrain[[\"xcoord\",\"ycoord\",\"zcoord\"]]\n",
    "y = dftrain[[\"wookieecolor\"]]"
   ]
  },
  {
   "cell_type": "code",
   "execution_count": 7,
   "id": "05f97280",
   "metadata": {},
   "outputs": [
    {
     "name": "stderr",
     "output_type": "stream",
     "text": [
      "<ipython-input-7-9a5411ea097d>:2: DataConversionWarning: A column-vector y was passed when a 1d array was expected. Please change the shape of y to (n_samples, ), for example using ravel().\n",
      "  neigh.fit(x,y)\n"
     ]
    },
    {
     "data": {
      "text/plain": [
       "KNeighborsClassifier(n_neighbors=1)"
      ]
     },
     "execution_count": 7,
     "metadata": {},
     "output_type": "execute_result"
    }
   ],
   "source": [
    "neigh = KNeighborsClassifier(n_neighbors=1)\n",
    "neigh.fit(x,y)"
   ]
  },
  {
   "cell_type": "code",
   "execution_count": 8,
   "id": "769777c9",
   "metadata": {},
   "outputs": [],
   "source": [
    "result = neigh.predict(dftest[[\"xcoord\",\"ycoord\",\"zcoord\"]])"
   ]
  },
  {
   "cell_type": "code",
   "execution_count": 10,
   "id": "edf0981f",
   "metadata": {},
   "outputs": [
    {
     "name": "stdout",
     "output_type": "stream",
     "text": [
      "['chartreuse' 'red' 'red' 'blue' 'red' 'white' 'white' 'red' 'blue' 'red'\n",
      " 'white' 'white' 'white' 'red' 'red' 'chartreuse' 'red' 'red' 'white'\n",
      " 'red' 'red' 'red' 'chartreuse' 'red' 'white' 'blue' 'white' 'white'\n",
      " 'chartreuse' 'blue' 'red' 'blue' 'red' 'chartreuse' 'red' 'red' 'white'\n",
      " 'white' 'blue' 'chartreuse' 'red' 'blue' 'red' 'red' 'blue' 'chartreuse'\n",
      " 'blue' 'red' 'red' 'chartreuse' 'white' 'red' 'blue' 'red' 'white'\n",
      " 'white' 'white' 'blue' 'red' 'blue' 'white' 'red' 'white' 'red' 'blue'\n",
      " 'chartreuse' 'white' 'white' 'blue' 'blue' 'chartreuse' 'blue' 'white'\n",
      " 'blue' 'blue' 'red' 'blue' 'white' 'red' 'red' 'red' 'white' 'red' 'red'\n",
      " 'white' 'red' 'blue' 'red' 'blue' 'red' 'red' 'blue' 'chartreuse'\n",
      " 'chartreuse' 'red' 'red' 'white' 'white' 'white' 'white' 'chartreuse'\n",
      " 'white' 'white' 'red' 'red' 'red' 'white' 'blue' 'white' 'chartreuse'\n",
      " 'white' 'chartreuse' 'red' 'red' 'red' 'red' 'white' 'blue' 'white' 'red'\n",
      " 'blue' 'blue' 'blue' 'blue' 'red' 'blue' 'white' 'blue' 'blue' 'red'\n",
      " 'chartreuse' 'red' 'chartreuse' 'red' 'blue' 'chartreuse' 'white' 'blue'\n",
      " 'red' 'white' 'white' 'blue' 'chartreuse' 'white' 'red' 'blue' 'red'\n",
      " 'red' 'chartreuse' 'red' 'red' 'blue' 'white' 'red' 'blue' 'red' 'white'\n",
      " 'white' 'white' 'white' 'blue' 'red' 'white' 'red' 'red' 'red'\n",
      " 'chartreuse' 'white' 'red' 'white' 'blue' 'chartreuse' 'white' 'red'\n",
      " 'red' 'white' 'red' 'chartreuse' 'white' 'white' 'white' 'white' 'red'\n",
      " 'red' 'white' 'blue' 'blue' 'red' 'red' 'red' 'white' 'chartreuse' 'blue'\n",
      " 'white' 'chartreuse' 'red' 'white' 'chartreuse' 'red' 'white'\n",
      " 'chartreuse' 'white' 'chartreuse' 'chartreuse' 'white' 'blue'\n",
      " 'chartreuse' 'white' 'red' 'red' 'white' 'white' 'red' 'white' 'red'\n",
      " 'white' 'white' 'red' 'white' 'blue' 'chartreuse' 'red' 'white' 'red'\n",
      " 'blue' 'white' 'red' 'red' 'red' 'red' 'white' 'white' 'red' 'red'\n",
      " 'white' 'white' 'chartreuse' 'chartreuse' 'red' 'blue' 'white'\n",
      " 'chartreuse' 'red' 'white' 'red' 'white' 'red' 'blue' 'blue' 'chartreuse']\n"
     ]
    }
   ],
   "source": [
    "print(result)"
   ]
  },
  {
   "cell_type": "code",
   "execution_count": 17,
   "id": "ae814f58",
   "metadata": {},
   "outputs": [
    {
     "name": "stdout",
     "output_type": "stream",
     "text": [
      "0.688\n"
     ]
    }
   ],
   "source": [
    "acc = accuracy_score(dftest[[\"wookieecolor\"]], result)\n",
    "print(acc)"
   ]
  },
  {
   "cell_type": "code",
   "execution_count": 19,
   "id": "c1b13348",
   "metadata": {},
   "outputs": [],
   "source": [
    "result2 = neigh.predict(dthold[[\"xcoord\",\"ycoord\",\"zcoord\"]])"
   ]
  },
  {
   "cell_type": "code",
   "execution_count": null,
   "id": "be2a3fb9",
   "metadata": {},
   "outputs": [],
   "source": []
  }
 ],
 "metadata": {
  "kernelspec": {
   "display_name": "Python 3 (classification)",
   "language": "python",
   "name": "classification"
  },
  "language_info": {
   "codemirror_mode": {
    "name": "ipython",
    "version": 3
   },
   "file_extension": ".py",
   "mimetype": "text/x-python",
   "name": "python",
   "nbconvert_exporter": "python",
   "pygments_lexer": "ipython3",
   "version": "3.8.5"
  }
 },
 "nbformat": 4,
 "nbformat_minor": 5
}
